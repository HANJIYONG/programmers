{
 "cells": [
  {
   "cell_type": "markdown",
   "metadata": {},
   "source": [
    "# 모의고사\n",
    "\n",
    "## 문제 설명\n",
    "수포자는 수학을 포기한 사람의 준말입니다. 수포자 삼인방은 모의고사에 수학 문제를 전부 찍으려 합니다. 수포자는 1번 문제부터 마지막 문제까지 다음과 같이 찍습니다.\n",
    "\n",
    "1번 수포자가 찍는 방식: 1, 2, 3, 4, 5, 1, 2, 3, 4, 5, ...\n",
    "2번 수포자가 찍는 방식: 2, 1, 2, 3, 2, 4, 2, 5, 2, 1, 2, 3, 2, 4, 2, 5, ...\n",
    "3번 수포자가 찍는 방식: 3, 3, 1, 1, 2, 2, 4, 4, 5, 5, 3, 3, 1, 1, 2, 2, 4, 4, 5, 5, ...\n",
    "\n",
    "1번 문제부터 마지막 문제까지의 정답이 순서대로 들은 배열 answers가 주어졌을 때, 가장 많은 문제를 맞힌 사람이 누구인지 배열에 담아 return 하도록 solution 함수를 작성해주세요.\n",
    "\n",
    "## 제한 조건\n",
    "* 시험은 최대 10,000 문제로 구성되어있습니다.\n",
    "* 문제의 정답은 1, 2, 3, 4, 5중 하나입니다.\n",
    "* 가장 높은 점수를 받은 사람이 여럿일 경우, return하는 값을 오름차순 정렬해주세요."
   ]
  },
  {
   "cell_type": "code",
   "execution_count": 28,
   "metadata": {},
   "outputs": [],
   "source": [
    "def solution(ans):\n",
    "    a1=[1,2,3,4,5]\n",
    "    a2=[2,1,2,3,2,4,2,5]\n",
    "    a3=[3,3,1,1,2,2,4,4,5,5]\n",
    "    cnt=[0,0,0]\n",
    "    for i in range(len(ans)):\n",
    "        index1=i%len(a1)\n",
    "        index2=i%len(a2)\n",
    "        index3=i%len(a3)\n",
    "\n",
    "        if(ans[i]==a1[index1]):\n",
    "            cnt[0]+=1\n",
    "        if(ans[i]==a2[index2]):\n",
    "            cnt[1]+=1\n",
    "        if(ans[i]==a3[index3]):\n",
    "            cnt[2]+=1\n",
    "\n",
    "    ans=[]\n",
    "    for i in range(len(cnt)):\n",
    "        if max(cnt)==cnt[i]:\n",
    "            ans.append(i+1)\n",
    "    return ans"
   ]
  }
 ],
 "metadata": {
  "kernelspec": {
   "display_name": "Python 3",
   "language": "python",
   "name": "python3"
  },
  "language_info": {
   "codemirror_mode": {
    "name": "ipython",
    "version": 3
   },
   "file_extension": ".py",
   "mimetype": "text/x-python",
   "name": "python",
   "nbconvert_exporter": "python",
   "pygments_lexer": "ipython3",
   "version": "3.6.8"
  }
 },
 "nbformat": 4,
 "nbformat_minor": 4
}
